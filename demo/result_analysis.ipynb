{
 "cells": [
  {
   "cell_type": "code",
   "execution_count": 1,
   "id": "initial_id",
   "metadata": {
    "collapsed": true,
    "ExecuteTime": {
     "end_time": "2024-02-07T20:48:53.401935155Z",
     "start_time": "2024-02-07T20:48:51.913481157Z"
    }
   },
   "source": [
    "from bw_tools import find_ecoinvent\n",
    "# pick the ecoinvent 391 project and get its ecoinvent database\n",
    "db = find_ecoinvent.set_current_get_db(find_ecoinvent.ECOINVENT_391_CUTOFF)"
   ],
   "outputs": []
  },
  {
   "cell_type": "code",
   "source": [
    "# a random activity\n",
    "random_act = db.random()\n",
    "random_act"
   ],
   "metadata": {
    "collapsed": false,
    "ExecuteTime": {
     "end_time": "2024-02-07T20:48:53.457090354Z",
     "start_time": "2024-02-07T20:48:53.443446793Z"
    }
   },
   "id": "4483e86012af9690",
   "execution_count": 2,
   "outputs": []
  },
  {
   "cell_type": "code",
   "source": [
    "# a random methods\n",
    "import bw2data\n",
    "\n",
    "random_method = bw2data.methods.random()\n",
    "random_method"
   ],
   "metadata": {
    "collapsed": false,
    "ExecuteTime": {
     "end_time": "2024-02-07T20:48:53.474795846Z",
     "start_time": "2024-02-07T20:48:53.444667252Z"
    }
   },
   "id": "be171dc2ec810ac1",
   "execution_count": 3,
   "outputs": []
  },
  {
   "cell_type": "code",
   "source": [
    "# do lcia\n",
    "from bw2calc import LCA\n",
    "\n",
    "lca = LCA({random_act: 1}, random_method)\n",
    "lca.lci()\n",
    "lca.lcia()"
   ],
   "metadata": {
    "collapsed": false,
    "ExecuteTime": {
     "end_time": "2024-02-07T20:49:03.898047859Z",
     "start_time": "2024-02-07T20:48:53.445193450Z"
    }
   },
   "id": "f5f2ecde1aa7367c",
   "execution_count": 4,
   "outputs": []
  },
  {
   "cell_type": "code",
   "source": [
    "lca.score"
   ],
   "metadata": {
    "collapsed": false,
    "ExecuteTime": {
     "end_time": "2024-02-07T20:49:03.925656022Z",
     "start_time": "2024-02-07T20:49:03.908913853Z"
    }
   },
   "id": "ed03bae7310ea13f",
   "execution_count": 5,
   "outputs": []
  },
  {
   "cell_type": "code",
   "source": [
    "from bw_tools.labeled_df import inventory2labeled_df\n",
    "# turn this into a dataframe with named indices (rows: biosphere activities) and columns: technosphere activities) \n",
    "df = inventory2labeled_df(lca)\n",
    "\"rows (biosphere)\", len(df), \"cols (technosphere)\",len(df.columns)"
   ],
   "metadata": {
    "collapsed": false,
    "ExecuteTime": {
     "end_time": "2024-02-07T20:49:05.530496462Z",
     "start_time": "2024-02-07T20:49:03.913400419Z"
    }
   },
   "id": "4753bb771f2bf777",
   "execution_count": 6,
   "outputs": []
  },
  {
   "cell_type": "code",
   "source": [
    "# Filter out all rows where all values are 0\n",
    "bio_filtered_df = df[~(df == 0).all(axis=1)]\n",
    "# df == 0 creates a DataFrame of booleans where each cell is True if the corresponding cell in df is zero.\n",
    "# .all(axis=1) checks each row to see if all values are True (i.e., if all values in the original DataFrame are zero).\n",
    "# ~ is the negation operator, so ~(df == 0).all(axis=1) gives us a boolean series that is True for rows that are not all zeros.\n",
    "# df[...] filters the DataFrame to keep only the rows where the condition is True.\n",
    "\"rows (biosphere)\", len(bio_filtered_df), \"cols (technosphere)\",len(bio_filtered_df.columns)"
   ],
   "metadata": {
    "collapsed": false,
    "ExecuteTime": {
     "end_time": "2024-02-07T20:49:05.737142614Z",
     "start_time": "2024-02-07T20:49:05.533967071Z"
    }
   },
   "id": "4fc0e69f4a6e77c6",
   "execution_count": 7,
   "outputs": []
  },
  {
   "cell_type": "code",
   "source": [
    "bio_filtered_df"
   ],
   "metadata": {
    "collapsed": false,
    "ExecuteTime": {
     "end_time": "2024-02-07T18:45:41.050412645Z",
     "start_time": "2024-02-07T18:45:40.990929652Z"
    }
   },
   "id": "3988c906d0471a5c",
   "execution_count": 8,
   "outputs": []
  },
  {
   "cell_type": "code",
   "source": [
    "# drop all columns, where the sum of values is below a threshold\n",
    "\n",
    "threshold = 0\n",
    "filtered_df = bio_filtered_df.loc[:, bio_filtered_df.sum() > threshold]\n",
    "# df.sum() calculates the sum of each column.\n",
    "# df.sum() >= threshold creates a boolean series where each value is True if the sum of the corresponding column is greater than or equal to the threshold.\n",
    "# df.loc[:, df.sum() >= threshold] selects only those columns for which the condition is True.\n",
    "\n",
    "# filtered_df\n",
    "len(filtered_df), len(filtered_df.columns)"
   ],
   "metadata": {
    "collapsed": false,
    "ExecuteTime": {
     "end_time": "2024-02-07T18:53:35.448845066Z",
     "start_time": "2024-02-07T18:53:35.406651438Z"
    }
   },
   "id": "7efa03b9f68459cb",
   "execution_count": 33,
   "outputs": []
  },
  {
   "cell_type": "code",
   "source": [
    "filtered_df"
   ],
   "metadata": {
    "collapsed": false,
    "ExecuteTime": {
     "end_time": "2024-02-07T18:51:35.268812600Z",
     "start_time": "2024-02-07T18:51:35.220142298Z"
    }
   },
   "id": "3097623ad274e891",
   "execution_count": 31,
   "outputs": []
  },
  {
   "cell_type": "code",
   "source": [
    "# filtered_df.to_csv('filtered_inventory.csv', index=True)"
   ],
   "metadata": {
    "collapsed": false,
    "ExecuteTime": {
     "end_time": "2024-01-31T14:37:32.809282039Z",
     "start_time": "2024-01-31T14:37:32.768048907Z"
    }
   },
   "id": "6c9e662173049025",
   "execution_count": 129,
   "outputs": []
  },
  {
   "cell_type": "code",
   "source": [
    "sums_df = filtered_df.sum().to_frame().T\n",
    "sums_df"
   ],
   "metadata": {
    "collapsed": false,
    "ExecuteTime": {
     "end_time": "2024-02-07T18:50:45.747501610Z",
     "start_time": "2024-02-07T18:50:45.729533529Z"
    }
   },
   "id": "bfa9daa9eaccce8b",
   "execution_count": 30,
   "outputs": []
  },
  {
   "cell_type": "code",
   "source": [
    "total_sum = filtered_df.values.sum()\n",
    "\n",
    "# Calculate the relative number for each cell\n",
    "relative_df = filtered_df / total_sum\n",
    "relative_df"
   ],
   "metadata": {
    "collapsed": false,
    "ExecuteTime": {
     "end_time": "2024-02-07T18:53:58.045312390Z",
     "start_time": "2024-02-07T18:53:58.020841857Z"
    }
   },
   "id": "94932dd634b7bd18",
   "execution_count": 35,
   "outputs": []
  },
  {
   "cell_type": "code",
   "source": [
    "relative_filtered_df = relative_df.loc[:, relative_df.sum() > 0.01]\n",
    "relative_filtered_df"
   ],
   "metadata": {
    "collapsed": false,
    "ExecuteTime": {
     "end_time": "2024-02-07T18:59:57.320755607Z",
     "start_time": "2024-02-07T18:59:57.291028508Z"
    }
   },
   "id": "cb289dd20c16dc3c",
   "execution_count": 47,
   "outputs": []
  },
  {
   "cell_type": "code",
   "source": [
    "filtered_df"
   ],
   "metadata": {
    "collapsed": false,
    "ExecuteTime": {
     "end_time": "2024-02-07T18:56:47.207159722Z",
     "start_time": "2024-02-07T18:56:47.162904694Z"
    }
   },
   "id": "cc5269e31e825f96",
   "execution_count": 39,
   "outputs": []
  },
  {
   "cell_type": "code",
   "source": [
    "(filtered_df.values[filtered_df.values != 0]).mean()"
   ],
   "metadata": {
    "collapsed": false,
    "ExecuteTime": {
     "end_time": "2024-02-07T18:56:28.905241381Z",
     "start_time": "2024-02-07T18:56:28.797566284Z"
    }
   },
   "id": "3bdb90d7b9a89bcd",
   "execution_count": 38,
   "outputs": []
  },
  {
   "cell_type": "code",
   "source": [
    "# number of non zero cells\n",
    "len(filtered_df.values[filtered_df.values != 0])"
   ],
   "metadata": {
    "collapsed": false,
    "ExecuteTime": {
     "end_time": "2024-02-07T18:57:38.450983623Z",
     "start_time": "2024-02-07T18:57:38.432232230Z"
    }
   },
   "id": "cdf310be0bb67d37",
   "execution_count": 45,
   "outputs": []
  },
  {
   "cell_type": "code",
   "source": [],
   "metadata": {
    "collapsed": false
   },
   "id": "8649cf32732ae11e",
   "execution_count": null,
   "outputs": []
  }
 ],
 "metadata": {
  "kernelspec": {
   "display_name": "Python 3",
   "language": "python",
   "name": "python3"
  },
  "language_info": {
   "codemirror_mode": {
    "name": "ipython",
    "version": 2
   },
   "file_extension": ".py",
   "mimetype": "text/x-python",
   "name": "python",
   "nbconvert_exporter": "python",
   "pygments_lexer": "ipython2",
   "version": "2.7.6"
  }
 },
 "nbformat": 4,
 "nbformat_minor": 5
}
