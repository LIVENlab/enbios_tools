{
 "cells": [
  {
   "cell_type": "code",
   "id": "initial_id",
   "metadata": {
    "collapsed": true,
    "ExecuteTime": {
     "end_time": "2024-06-04T10:27:08.373557Z",
     "start_time": "2024-06-04T10:27:06.738350Z"
    }
   },
   "source": [
    "from csv import DictReader\n",
    "\n",
    "import bw2data"
   ],
   "execution_count": 1,
   "outputs": []
  },
  {
   "cell_type": "code",
   "source": [
    "project_name = \"super_simple_builder_test\"\n",
    "\n",
    "try:\n",
    "    bw2data.projects.delete_project(project_name, True)\n",
    "except ValueError:\n",
    "    pass\n",
    "    # print(\"project does not exist\")\n",
    "\n",
    "bw2data.projects.set_current(project_name)\n",
    "\n",
    "db = bw2data.Database(\"db\")\n",
    "db.register()"
   ],
   "metadata": {
    "collapsed": false,
    "ExecuteTime": {
     "end_time": "2024-06-04T10:27:09.287305Z",
     "start_time": "2024-06-04T10:27:08.965495Z"
    }
   },
   "id": "a9496e1fa5c8096d",
   "execution_count": 2,
   "outputs": []
  },
  {
   "cell_type": "code",
   "source": [
    "# activities = list(DictReader(open(\"data/network/super_simple_network.csv\")))\n",
    "# exchanges = list(DictReader(open(\"data/network/super_simple_connections.csv\")))\n",
    "activities = list(DictReader(open(\"data/network/network.csv\")))\n",
    "exchanges = list(DictReader(open(\"data/network/connections.csv\")))"
   ],
   "metadata": {
    "collapsed": false,
    "ExecuteTime": {
     "end_time": "2024-06-04T10:27:09.394957Z",
     "start_time": "2024-06-04T10:27:09.390591Z"
    }
   },
   "id": "9b6a11dda5d5ebbe",
   "execution_count": 3,
   "outputs": []
  },
  {
   "metadata": {
    "ExecuteTime": {
     "end_time": "2024-06-04T10:27:09.741783Z",
     "start_time": "2024-06-04T10:27:09.735724Z"
    }
   },
   "cell_type": "code",
   "source": "len(exchanges)",
   "id": "4f486877d386344c",
   "execution_count": 4,
   "outputs": []
  },
  {
   "cell_type": "code",
   "source": [
    "from bw_tools.network_build import build_network\n",
    "\n",
    "build_network(db, {\n",
    "    \"activities\": activities,\n",
    "    \"exchanges\": exchanges\n",
    "})"
   ],
   "metadata": {
    "collapsed": false,
    "ExecuteTime": {
     "end_time": "2024-06-04T10:27:11.642948Z",
     "start_time": "2024-06-04T10:27:11.447939Z"
    }
   },
   "id": "3eeee5a5becebf4a",
   "execution_count": 5,
   "outputs": []
  },
  {
   "cell_type": "code",
   "source": [
    "list(db)"
   ],
   "metadata": {
    "collapsed": false,
    "ExecuteTime": {
     "end_time": "2024-06-04T10:27:13.716141Z",
     "start_time": "2024-06-04T10:27:13.705016Z"
    }
   },
   "id": "3c9af26b74d74ea1",
   "execution_count": 6,
   "outputs": []
  },
  {
   "cell_type": "code",
   "source": [
    "from bw2data.backends import Activity\n",
    "\n",
    "product: Activity = db.get(\"product\")\n",
    "list(product.exchanges())"
   ],
   "metadata": {
    "collapsed": false,
    "ExecuteTime": {
     "end_time": "2024-06-04T10:27:17.417350Z",
     "start_time": "2024-06-04T10:27:17.404617Z"
    }
   },
   "id": "2aa72034e7195848",
   "execution_count": 7,
   "outputs": []
  },
  {
   "cell_type": "code",
   "source": [
    "energy: Activity = db.get(\"energy\")\n",
    "list(product.exchanges())"
   ],
   "metadata": {
    "collapsed": false
   },
   "id": "450a59bedb084f5f",
   "execution_count": null,
   "outputs": []
  },
  {
   "cell_type": "code",
   "source": [
    "method_id = (\"IPCC\", \"co2-pollution\")\n",
    "simple_method = bw2data.Method(method_id)\n",
    "\n",
    "co2: Activity = db.get(\"co2\")\n",
    "\n",
    "simple_method.write([\n",
    "    (co2.key, {'amount': 1})\n",
    "])"
   ],
   "metadata": {
    "collapsed": false,
    "ExecuteTime": {
     "end_time": "2024-06-04T10:32:55.033504Z",
     "start_time": "2024-06-04T10:32:55.014144Z"
    }
   },
   "id": "b278a093e5e84c17",
   "execution_count": 8,
   "outputs": []
  },
  {
   "metadata": {
    "ExecuteTime": {
     "end_time": "2024-06-04T10:35:43.108054Z",
     "start_time": "2024-06-04T10:35:43.105170Z"
    }
   },
   "cell_type": "code",
   "source": "",
   "id": "fcbfc62694ddf1ab",
   "execution_count": 9,
   "outputs": []
  },
  {
   "cell_type": "code",
   "source": [
    "from bw2calc import LCA\n",
    "\n",
    "lca = LCA({product: 1}, method_id)\n",
    "lca.lci()\n",
    "lca.lcia()\n",
    "lca.score"
   ],
   "metadata": {
    "collapsed": false
   },
   "id": "937044cef54ecd11",
   "execution_count": null,
   "outputs": []
  },
  {
   "cell_type": "code",
   "source": [
    "from bw_tools import mermaid_diagram\n",
    "markdown_string = mermaid_diagram.create_diagram([co2,product,energy], False)"
   ],
   "metadata": {
    "collapsed": false
   },
   "id": "da54f8673fa4edd9",
   "execution_count": null,
   "outputs": []
  },
  {
   "cell_type": "code",
   "source": [
    "# copy the result to https://mermaid.live\n",
    "print(markdown_string)"
   ],
   "metadata": {
    "collapsed": false
   },
   "id": "390b0fceb0809421",
   "execution_count": null,
   "outputs": []
  },
  {
   "cell_type": "code",
   "source": [
    "try:\n",
    "    bw2data.projects.delete_project(project_name, True)\n",
    "except ValueError:\n",
    "    pass\n",
    "    # print(\"project does not exist\")"
   ],
   "metadata": {
    "collapsed": false
   },
   "id": "12a4b0293dff429c",
   "execution_count": null,
   "outputs": []
  },
  {
   "metadata": {},
   "cell_type": "code",
   "execution_count": null,
   "source": "",
   "id": "b71fb50f5d83cf7d",
   "outputs": []
  }
 ],
 "metadata": {
  "kernelspec": {
   "display_name": "Python 3",
   "language": "python",
   "name": "python3"
  },
  "language_info": {
   "codemirror_mode": {
    "name": "ipython",
    "version": 2
   },
   "file_extension": ".py",
   "mimetype": "text/x-python",
   "name": "python",
   "nbconvert_exporter": "python",
   "pygments_lexer": "ipython2",
   "version": "2.7.6"
  }
 },
 "nbformat": 4,
 "nbformat_minor": 5
}
