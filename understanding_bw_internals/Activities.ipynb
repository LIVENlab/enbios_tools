{
 "cells": [
  {
   "cell_type": "markdown",
   "source": [
    "# Brighway activities\n",
    "\n",
    "__Difficulty:__ Basic :)"
   ],
   "metadata": {
    "collapsed": false
   },
   "id": "2e1215448d3d7f1b"
  },
  {
   "cell_type": "code",
   "source": [
    "import bw2data\n",
    "from bw2data.backends import Activity\n",
    "from bw2data.backends.proxies import Exchanges"
   ],
   "metadata": {
    "collapsed": true,
    "ExecuteTime": {
     "end_time": "2024-01-26T09:51:05.031062148Z",
     "start_time": "2024-01-26T09:51:04.987793014Z"
    }
   },
   "id": "initial_id",
   "execution_count": 51,
   "outputs": []
  },
  {
   "cell_type": "code",
   "source": [
    "# Change this to your local setup\n",
    "BW_EXAMPLE_PROJECT = \"ecoinvent_391\""
   ],
   "metadata": {
    "collapsed": false,
    "ExecuteTime": {
     "end_time": "2024-01-26T09:51:05.339694402Z",
     "start_time": "2024-01-26T09:51:05.336650399Z"
    }
   },
   "id": "985619c1f57ab0d5",
   "execution_count": 52,
   "outputs": []
  },
  {
   "cell_type": "code",
   "source": [
    "bw2data.projects.set_current(BW_EXAMPLE_PROJECT)\n",
    "# which databases does the project have\n",
    "bw2data.databases"
   ],
   "metadata": {
    "collapsed": false,
    "ExecuteTime": {
     "end_time": "2024-01-26T09:51:05.670858749Z",
     "start_time": "2024-01-26T09:51:05.658615771Z"
    }
   },
   "id": "587a66b563fd4ac9",
   "execution_count": 53,
   "outputs": []
  },
  {
   "cell_type": "code",
   "source": [
    "# Change this to the ecoinvent or other database that has some technosphere activities\n",
    "BW_EXAMPLE_DB = \"ecoinvent_391_cutoff\""
   ],
   "metadata": {
    "collapsed": false,
    "ExecuteTime": {
     "end_time": "2024-01-26T09:51:06.473889285Z",
     "start_time": "2024-01-26T09:51:06.467951266Z"
    }
   },
   "id": "704ad89675dc4ba7",
   "execution_count": 54,
   "outputs": []
  },
  {
   "cell_type": "code",
   "source": [
    "from bw2data.backends import SQLiteBackend\n",
    "\n",
    "db: SQLiteBackend = bw2data.Database(BW_EXAMPLE_DB)\n",
    "db, f\"Activities: {len(db)}\""
   ],
   "metadata": {
    "collapsed": false,
    "ExecuteTime": {
     "end_time": "2024-01-26T09:51:07.028699225Z",
     "start_time": "2024-01-26T09:51:07.024825869Z"
    }
   },
   "id": "10be8e9d9d1439c7",
   "execution_count": 55,
   "outputs": []
  },
  {
   "cell_type": "code",
   "source": [
    "activity: Activity = db.random()\n",
    "activity, type(activity)"
   ],
   "metadata": {
    "collapsed": false,
    "ExecuteTime": {
     "end_time": "2024-01-26T09:51:08.116425948Z",
     "start_time": "2024-01-26T09:51:08.092662420Z"
    }
   },
   "id": "bccf5615d158bfc7",
   "execution_count": 56,
   "outputs": []
  },
  {
   "cell_type": "code",
   "source": [
    "def print_exchanges(exchange_list: Exchanges):\n",
    "    for exchange in exchange_list:\n",
    "        print(exchange)\n",
    "        print()\n",
    "    print()"
   ],
   "metadata": {
    "collapsed": false,
    "ExecuteTime": {
     "end_time": "2024-01-26T09:11:12.997603774Z",
     "start_time": "2024-01-26T09:11:12.994462452Z"
    }
   },
   "id": "401375353059e067",
   "execution_count": 28,
   "outputs": []
  },
  {
   "cell_type": "code",
   "source": [
    "# biosphere inputs\n",
    "biosphere_exchanges: Exchanges = activity.biosphere()\n",
    "print(f\"*** biosphere exchanges ({len(biosphere_exchanges)})\")\n",
    "print_exchanges(biosphere_exchanges)\n",
    "\n",
    "# technosphere inputs\n",
    "technosphere_exchanges = activity.technosphere()\n",
    "print(f\"*** technosphere exchanges ({len(technosphere_exchanges)})\")\n",
    "print_exchanges(technosphere_exchanges)\n",
    "\n",
    "# technosphere outputs\n",
    "upstream_exchanges: Exchanges = activity.exchanges()\n",
    "# exactly the same as: activity.consumers()\n",
    "print(f\"*** upstream exchanges ({len(upstream_exchanges)})\")\n",
    "print_exchanges(upstream_exchanges)\n",
    "\n",
    "# product\n",
    "production_exchange: Exchanges = activity.production()\n",
    "# exactly the same as: activity.producers\n",
    "print(f\"*** production exchange (generally (always) 1)\")\n",
    "print(list(production_exchange)[0])"
   ],
   "metadata": {
    "collapsed": false,
    "ExecuteTime": {
     "end_time": "2024-01-26T09:11:26.543121532Z",
     "start_time": "2024-01-26T09:11:26.498232742Z"
    }
   },
   "id": "3993c8603c2dfac1",
   "execution_count": 30,
   "outputs": []
  },
  {
   "cell_type": "code",
   "source": [
    "# all inputs at once this includes the biosphere, technosphere and the production\n",
    "all_inputs: Exchanges = activity.exchanges()\n",
    "# exactly the same as activity.edges()\n",
    "print(f\"*** all inputs ({len(list(all_inputs))})\")\n",
    "for exchange in upstream_exchanges:\n",
    "    print(exchange)\n",
    "    print()"
   ],
   "metadata": {
    "collapsed": false,
    "ExecuteTime": {
     "end_time": "2024-01-26T09:11:27.156631084Z",
     "start_time": "2024-01-26T09:11:27.126375886Z"
    }
   },
   "id": "a25ee91188d45f8c",
   "execution_count": 31,
   "outputs": []
  },
  {
   "cell_type": "code",
   "source": [
    "first_input = next(iter(all_inputs))\n",
    "print(first_input.input)\n",
    "print(first_input.output)"
   ],
   "metadata": {
    "collapsed": false,
    "ExecuteTime": {
     "end_time": "2024-01-26T09:12:58.134973960Z",
     "start_time": "2024-01-26T09:12:58.092358422Z"
    }
   },
   "id": "f5615edd79359150",
   "execution_count": 34,
   "outputs": []
  },
  {
   "cell_type": "code",
   "source": [
    "second_input = list(all_inputs)[1]\n",
    "print(second_input.input)\n",
    "print(second_input.output)"
   ],
   "metadata": {
    "collapsed": false,
    "ExecuteTime": {
     "end_time": "2024-01-26T09:13:56.275026342Z",
     "start_time": "2024-01-26T09:13:56.229491880Z"
    }
   },
   "id": "c6ea52ca953e0ac5",
   "execution_count": 35,
   "outputs": []
  },
  {
   "cell_type": "code",
   "source": [
    "\n",
    "def collect_background_activities(activity: Activity, levels: int = 1) -> list[set[Activity]]:\n",
    "    \"\"\"\n",
    "    \n",
    "    :param activity: \n",
    "    :param levels: pass -1 for search until no new activities are added\n",
    "    :return: \n",
    "    \"\"\"\n",
    "    background_system: list[set[Activity]] = [{activity}]\n",
    "    all_activities: set[Activity] = {activity}\n",
    "    current_level = 0\n",
    "    # use a while loop, because passing levels: -1 means it goes on until there is nothing new to add\n",
    "    while True:\n",
    "        print(f\"level: {current_level}\")\n",
    "        current_level_activities = background_system[current_level]\n",
    "        next_level_activities: set[Activity] = set()\n",
    "        for _activity in current_level_activities:\n",
    "            technosphere_input_exchanges: Exchanges = _activity.exchanges()\n",
    "            for input_exchange in technosphere_input_exchanges:\n",
    "                if input_exchange.input not in all_activities:\n",
    "                    next_level_activities.add(input_exchange.input)\n",
    "        print(f\"Adding {len(next_level_activities)} activities\")\n",
    "        background_system.append(next_level_activities)\n",
    "        if len(next_level_activities) > 0:\n",
    "            all_activities.update(next_level_activities)\n",
    "        # end the loop, if no new activities have been added\n",
    "        if not next_level_activities:\n",
    "            break\n",
    "        if levels != -1 and current_level == levels:\n",
    "            break\n",
    "        current_level += 1\n",
    "    return background_system\n",
    "\n",
    "\n",
    "collect_background_activities(activity, -1)"
   ],
   "metadata": {
    "collapsed": false,
    "ExecuteTime": {
     "end_time": "2024-01-26T10:06:11.913780397Z",
     "start_time": "2024-01-26T10:02:44.713869810Z"
    }
   },
   "id": "1cd72a53bbec1eb1",
   "execution_count": 62,
   "outputs": []
  }
 ],
 "metadata": {
  "kernelspec": {
   "display_name": "Python 3",
   "language": "python",
   "name": "python3"
  },
  "language_info": {
   "codemirror_mode": {
    "name": "ipython",
    "version": 2
   },
   "file_extension": ".py",
   "mimetype": "text/x-python",
   "name": "python",
   "nbconvert_exporter": "python",
   "pygments_lexer": "ipython2",
   "version": "2.7.6"
  }
 },
 "nbformat": 4,
 "nbformat_minor": 5
}
